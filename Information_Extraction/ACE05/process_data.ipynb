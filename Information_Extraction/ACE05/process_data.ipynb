{
 "cells": [
  {
   "cell_type": "code",
   "execution_count": 8,
   "metadata": {},
   "outputs": [],
   "source": [
    "import json,random\n",
    "read_path='train.json'\n",
    "write_path='new_train.json'\n",
    "schema_dict={}"
   ]
  },
  {
   "cell_type": "code",
   "execution_count": 9,
   "metadata": {},
   "outputs": [
    {
     "data": {
      "text/plain": [
       "{'sentence': 'If I give him shares in my corporation in Feb 2004 of my S Corporation making him 30 % shareholder , and I finally distributed profit this year , will the creditors attempt to that take money from him in 2005 ?',\n",
       " 'events': [{'trigger': 'give',\n",
       "   'type': 'transfer ownership',\n",
       "   'pos': [],\n",
       "   'arguments': [{'name': 'him', 'role': 'beneficiary', 'pos': []},\n",
       "    {'name': 'corporation', 'role': 'artifact', 'pos': []},\n",
       "    {'name': 'I', 'role': 'seller', 'pos': []}]}]}"
      ]
     },
     "execution_count": 9,
     "metadata": {},
     "output_type": "execute_result"
    }
   ],
   "source": [
    "with open(read_path,'r') as f:\n",
    "    data = json.load(f)\n",
    "data[2]"
   ]
  },
  {
   "cell_type": "code",
   "execution_count": 10,
   "metadata": {},
   "outputs": [],
   "source": [
    "new_data=[]\n",
    "for itm in data:\n",
    "    nowdic = {'text':itm['sentence'],'event_list':[]}\n",
    "    for event in itm['events']:\n",
    "        nowdic['event_list'].append({'event_type':event['type'],'arguments':event['arguments']})\n",
    "        if event['type'] not in schema_dict:\n",
    "            schema_dict[event['type']] = []\n",
    "        for arg in event['arguments']:\n",
    "            if arg['role'] not in schema_dict[event['type']]:\n",
    "                schema_dict[event['type']].append(arg['role'])\n",
    "    new_data.append(nowdic)"
   ]
  },
  {
   "cell_type": "code",
   "execution_count": 11,
   "metadata": {},
   "outputs": [
    {
     "data": {
      "text/plain": [
       "{'text': 'on april 9th , about 130 journalists from around the world including myself and a couple of reporters , we were going to try to cross the border because we were all desperate to get into iraq , two days after the saddam statue fell and we all knew it was over .',\n",
       " 'event_list': [{'event_type': 'transport',\n",
       "   'arguments': [{'name': 'journalists', 'role': 'artifact', 'pos': []},\n",
       "    {'name': 'border', 'role': 'destination', 'pos': []}]}]}"
      ]
     },
     "execution_count": 11,
     "metadata": {},
     "output_type": "execute_result"
    }
   ],
   "source": [
    "random.shuffle(new_data)\n",
    "new_data[0]"
   ]
  },
  {
   "cell_type": "code",
   "execution_count": 12,
   "metadata": {},
   "outputs": [],
   "source": [
    "with open(write_path,'w') as f:\n",
    "    for itm in new_data[:2000]:\n",
    "        json.dump(itm,f)\n",
    "        f.write('\\n')"
   ]
  },
  {
   "cell_type": "code",
   "execution_count": 13,
   "metadata": {},
   "outputs": [
    {
     "data": {
      "text/plain": [
       "{'declare bankruptcy': ['organization'],\n",
       " 'transfer ownership': ['beneficiary', 'artifact', 'seller', 'buyer', 'place'],\n",
       " 'marry': ['person', 'place'],\n",
       " 'die': ['victim', 'place', 'agent', 'instrument', 'person'],\n",
       " 'phone write': ['entity', 'place'],\n",
       " 'arrest jail': ['person', 'agent', 'place'],\n",
       " 'convict': ['defendant', 'adjudicator', 'place'],\n",
       " 'sue': ['defendant', 'plaintiff', 'adjudicator', 'place'],\n",
       " 'transfer money': ['recipient', 'giver', 'beneficiary', 'place'],\n",
       " 'end organization': ['organization', 'place'],\n",
       " 'start organization': ['organization', 'agent', 'place'],\n",
       " 'end position': ['person', 'entity', 'place'],\n",
       " 'merge organization': ['organization'],\n",
       " 'start position': ['place', 'entity', 'person'],\n",
       " 'transport': ['artifact',\n",
       "  'destination',\n",
       "  'origin',\n",
       "  'agent',\n",
       "  'vehicle',\n",
       "  'victim',\n",
       "  'place'],\n",
       " 'charge indict': ['place', 'prosecutor', 'adjudicator', 'defendant'],\n",
       " 'elect': ['place', 'person', 'entity'],\n",
       " 'attack': ['attacker', 'place', 'target', 'instrument', 'victim'],\n",
       " 'injure': ['victim', 'agent', 'instrument', 'place'],\n",
       " 'born': ['person', 'place'],\n",
       " 'extradite': ['person', 'origin', 'destination', 'agent'],\n",
       " 'release parole': ['person', 'place', 'entity'],\n",
       " 'sentence': ['adjudicator', 'defendant', 'place'],\n",
       " 'demonstrate': ['entity', 'place'],\n",
       " 'meet': ['entity', 'place'],\n",
       " 'trial hearing': ['adjudicator', 'defendant', 'place', 'prosecutor'],\n",
       " 'divorce': ['person'],\n",
       " 'nominate': ['person', 'agent'],\n",
       " 'fine': ['entity', 'adjudicator', 'place'],\n",
       " 'appeal': ['adjudicator', 'place', 'plaintiff'],\n",
       " 'pardon': ['defendant', 'place', 'adjudicator'],\n",
       " 'execute': ['person', 'agent', 'place'],\n",
       " 'acquit': ['defendant']}"
      ]
     },
     "execution_count": 13,
     "metadata": {},
     "output_type": "execute_result"
    }
   ],
   "source": [
    "schema_dict"
   ]
  },
  {
   "cell_type": "code",
   "execution_count": 14,
   "metadata": {},
   "outputs": [],
   "source": [
    "with open('ace05_event_schema.json','w') as f:\n",
    "    for k,v in schema_dict.items():\n",
    "        json.dump({'event_type':k,'arguments':v},f)\n",
    "        f.write('\\n')"
   ]
  }
 ],
 "metadata": {
  "kernelspec": {
   "display_name": "base",
   "language": "python",
   "name": "python3"
  },
  "language_info": {
   "codemirror_mode": {
    "name": "ipython",
    "version": 3
   },
   "file_extension": ".py",
   "mimetype": "text/x-python",
   "name": "python",
   "nbconvert_exporter": "python",
   "pygments_lexer": "ipython3",
   "version": "3.9.13"
  }
 },
 "nbformat": 4,
 "nbformat_minor": 2
}
